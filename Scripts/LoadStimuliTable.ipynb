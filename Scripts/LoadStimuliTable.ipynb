{
 "cells": [
  {
   "cell_type": "markdown",
   "metadata": {},
   "source": [
    "# Stimuli Table Script\n",
    "\n",
    "## Loads all file names from a dir and creates a CSV file with a row per file\n",
    "\n",
    "### Key features of each stimulus are also included in dataframe rows (CSV rows). \n",
    " \n",
    "Raúl Arrabales - Change Blindness in Hierarchical Stimuli Project"
   ]
  },
  {
   "cell_type": "code",
   "execution_count": 78,
   "metadata": {
    "collapsed": true
   },
   "outputs": [],
   "source": [
    "from os import listdir\n",
    "from os.path import isfile, join\n",
    "\n",
    "import pandas as pd"
   ]
  },
  {
   "cell_type": "code",
   "execution_count": 79,
   "metadata": {
    "collapsed": true
   },
   "outputs": [],
   "source": [
    "# Path to dir where all stimili files are stored\n",
    "PathToStimuli = 'AllStimuli/'"
   ]
  },
  {
   "cell_type": "code",
   "execution_count": 80,
   "metadata": {
    "collapsed": false
   },
   "outputs": [
    {
     "data": {
      "text/html": [
       "<div>\n",
       "<table border=\"1\" class=\"dataframe\">\n",
       "  <thead>\n",
       "    <tr style=\"text-align: right;\">\n",
       "      <th></th>\n",
       "      <th>FileName</th>\n",
       "      <th>Pattern</th>\n",
       "      <th>G1</th>\n",
       "      <th>L1</th>\n",
       "      <th>G2</th>\n",
       "      <th>L2</th>\n",
       "      <th>G3</th>\n",
       "      <th>L3</th>\n",
       "      <th>G4</th>\n",
       "      <th>L4</th>\n",
       "    </tr>\n",
       "  </thead>\n",
       "  <tbody>\n",
       "  </tbody>\n",
       "</table>\n",
       "</div>"
      ],
      "text/plain": [
       "Empty DataFrame\n",
       "Columns: [FileName, Pattern, G1, L1, G2, L2, G3, L3, G4, L4]\n",
       "Index: []"
      ]
     },
     "execution_count": 80,
     "metadata": {},
     "output_type": "execute_result"
    }
   ],
   "source": [
    "# Dataframe to store all stimuli data\n",
    "columns = ['FileName', 'Pattern', 'G1', 'L1', 'G2', 'L2', 'G3', 'L3', 'G4', 'L4']\n",
    "sdf = pd.DataFrame(columns=columns)\n",
    "sdf.head()"
   ]
  },
  {
   "cell_type": "code",
   "execution_count": 81,
   "metadata": {
    "collapsed": false
   },
   "outputs": [],
   "source": [
    "# Get all stimuli file names\n",
    "files = [f for f in listdir(pathToStimuli) if isfile(join(PathToStimuli, f))]"
   ]
  },
  {
   "cell_type": "code",
   "execution_count": 82,
   "metadata": {
    "collapsed": false
   },
   "outputs": [
    {
     "name": "stdout",
     "output_type": "stream",
     "text": [
      "1Row-Xd-Xg-Xd-Xg.png\n"
     ]
    }
   ],
   "source": [
    "print(files[1])"
   ]
  },
  {
   "cell_type": "code",
   "execution_count": 83,
   "metadata": {
    "collapsed": false
   },
   "outputs": [
    {
     "name": "stdout",
     "output_type": "stream",
     "text": [
      "Found 59 stimulus files.\n"
     ]
    }
   ],
   "source": [
    "print('Found ' + str(len(files)) + ' stimulus files.')"
   ]
  },
  {
   "cell_type": "code",
   "execution_count": 84,
   "metadata": {
    "collapsed": true
   },
   "outputs": [],
   "source": [
    "# Get 1 Row pattern files\n",
    "files1Row = [f for f in files if f.startswith('1Row')]"
   ]
  },
  {
   "cell_type": "code",
   "execution_count": 85,
   "metadata": {
    "collapsed": false
   },
   "outputs": [
    {
     "name": "stdout",
     "output_type": "stream",
     "text": [
      "Found 59 One Row Pattern stimuli.\n"
     ]
    }
   ],
   "source": [
    "print('Found ' + str(len(files1Row)) + ' One Row Pattern stimuli.')"
   ]
  },
  {
   "cell_type": "code",
   "execution_count": 86,
   "metadata": {
    "collapsed": false
   },
   "outputs": [],
   "source": [
    "# For all 1Row stimuli: \n",
    "\n",
    "for s in files1Row:\n",
    "    \n",
    "    # Get 4 global letters and 4 local letters\n",
    "    name = s.split(\".\")[0]\n",
    "    letter1 = name.split(\"-\")[1]\n",
    "    letter2 = name.split(\"-\")[2]\n",
    "    letter3 = name.split(\"-\")[3]\n",
    "    letter4 = name.split(\"-\")[4]\n",
    "    letter1G = letter1[0]\n",
    "    letter2G = letter2[0]\n",
    "    letter3G = letter3[0]\n",
    "    letter4G = letter4[0]\n",
    "    letter1L = letter1[1]\n",
    "    letter2L = letter2[1]\n",
    "    letter3L = letter3[1]\n",
    "    letter4L = letter4[1]\n",
    "    \n",
    "    sdf.loc[len(sdf)] = [name, '1Row', letter1G, letter1L, letter2G, letter2L, letter3G, letter3L, letter4G, letter4L]\n",
    "    "
   ]
  },
  {
   "cell_type": "code",
   "execution_count": 87,
   "metadata": {
    "collapsed": false
   },
   "outputs": [],
   "source": [
    "sdf.to_csv('AllStimuli.csv', sep =';',index_label='StimulusId')"
   ]
  },
  {
   "cell_type": "code",
   "execution_count": 88,
   "metadata": {
    "collapsed": false
   },
   "outputs": [
    {
     "data": {
      "text/html": [
       "<div>\n",
       "<table border=\"1\" class=\"dataframe\">\n",
       "  <thead>\n",
       "    <tr style=\"text-align: right;\">\n",
       "      <th></th>\n",
       "      <th>FileName</th>\n",
       "      <th>Pattern</th>\n",
       "      <th>G1</th>\n",
       "      <th>L1</th>\n",
       "      <th>G2</th>\n",
       "      <th>L2</th>\n",
       "      <th>G3</th>\n",
       "      <th>L3</th>\n",
       "      <th>G4</th>\n",
       "      <th>L4</th>\n",
       "    </tr>\n",
       "  </thead>\n",
       "  <tbody>\n",
       "    <tr>\n",
       "      <th>0</th>\n",
       "      <td>1Row-Xf-Xd-Xd-Xf</td>\n",
       "      <td>1Row</td>\n",
       "      <td>X</td>\n",
       "      <td>f</td>\n",
       "      <td>X</td>\n",
       "      <td>d</td>\n",
       "      <td>X</td>\n",
       "      <td>d</td>\n",
       "      <td>X</td>\n",
       "      <td>f</td>\n",
       "    </tr>\n",
       "    <tr>\n",
       "      <th>1</th>\n",
       "      <td>1Row-Xd-Xg-Xd-Xg</td>\n",
       "      <td>1Row</td>\n",
       "      <td>X</td>\n",
       "      <td>d</td>\n",
       "      <td>X</td>\n",
       "      <td>g</td>\n",
       "      <td>X</td>\n",
       "      <td>d</td>\n",
       "      <td>X</td>\n",
       "      <td>g</td>\n",
       "    </tr>\n",
       "    <tr>\n",
       "      <th>2</th>\n",
       "      <td>1Row-Xd-Xf-Xa-Xg</td>\n",
       "      <td>1Row</td>\n",
       "      <td>X</td>\n",
       "      <td>d</td>\n",
       "      <td>X</td>\n",
       "      <td>f</td>\n",
       "      <td>X</td>\n",
       "      <td>a</td>\n",
       "      <td>X</td>\n",
       "      <td>g</td>\n",
       "    </tr>\n",
       "    <tr>\n",
       "      <th>3</th>\n",
       "      <td>1Row-Dx-Bg-Ef-Hd</td>\n",
       "      <td>1Row</td>\n",
       "      <td>D</td>\n",
       "      <td>x</td>\n",
       "      <td>B</td>\n",
       "      <td>g</td>\n",
       "      <td>E</td>\n",
       "      <td>f</td>\n",
       "      <td>H</td>\n",
       "      <td>d</td>\n",
       "    </tr>\n",
       "    <tr>\n",
       "      <th>4</th>\n",
       "      <td>1Row-Gl-Bg-Ah-Hd</td>\n",
       "      <td>1Row</td>\n",
       "      <td>G</td>\n",
       "      <td>l</td>\n",
       "      <td>B</td>\n",
       "      <td>g</td>\n",
       "      <td>A</td>\n",
       "      <td>h</td>\n",
       "      <td>H</td>\n",
       "      <td>d</td>\n",
       "    </tr>\n",
       "    <tr>\n",
       "      <th>5</th>\n",
       "      <td>1Row-Xf-Xg-Xd-Xg</td>\n",
       "      <td>1Row</td>\n",
       "      <td>X</td>\n",
       "      <td>f</td>\n",
       "      <td>X</td>\n",
       "      <td>g</td>\n",
       "      <td>X</td>\n",
       "      <td>d</td>\n",
       "      <td>X</td>\n",
       "      <td>g</td>\n",
       "    </tr>\n",
       "    <tr>\n",
       "      <th>6</th>\n",
       "      <td>1Row-Hc-Rd-Xf-Ah</td>\n",
       "      <td>1Row</td>\n",
       "      <td>H</td>\n",
       "      <td>c</td>\n",
       "      <td>R</td>\n",
       "      <td>d</td>\n",
       "      <td>X</td>\n",
       "      <td>f</td>\n",
       "      <td>A</td>\n",
       "      <td>h</td>\n",
       "    </tr>\n",
       "    <tr>\n",
       "      <th>7</th>\n",
       "      <td>1Row-Ae-Xd-Rx-Hf</td>\n",
       "      <td>1Row</td>\n",
       "      <td>A</td>\n",
       "      <td>e</td>\n",
       "      <td>X</td>\n",
       "      <td>d</td>\n",
       "      <td>R</td>\n",
       "      <td>x</td>\n",
       "      <td>H</td>\n",
       "      <td>f</td>\n",
       "    </tr>\n",
       "    <tr>\n",
       "      <th>8</th>\n",
       "      <td>1Row-Gh-Bg-Eh-Hd</td>\n",
       "      <td>1Row</td>\n",
       "      <td>G</td>\n",
       "      <td>h</td>\n",
       "      <td>B</td>\n",
       "      <td>g</td>\n",
       "      <td>E</td>\n",
       "      <td>h</td>\n",
       "      <td>H</td>\n",
       "      <td>d</td>\n",
       "    </tr>\n",
       "    <tr>\n",
       "      <th>9</th>\n",
       "      <td>1Row-Hc-Bh-Xf-Ah</td>\n",
       "      <td>1Row</td>\n",
       "      <td>H</td>\n",
       "      <td>c</td>\n",
       "      <td>B</td>\n",
       "      <td>h</td>\n",
       "      <td>X</td>\n",
       "      <td>f</td>\n",
       "      <td>A</td>\n",
       "      <td>h</td>\n",
       "    </tr>\n",
       "  </tbody>\n",
       "</table>\n",
       "</div>"
      ],
      "text/plain": [
       "           FileName Pattern G1 L1 G2 L2 G3 L3 G4 L4\n",
       "0  1Row-Xf-Xd-Xd-Xf    1Row  X  f  X  d  X  d  X  f\n",
       "1  1Row-Xd-Xg-Xd-Xg    1Row  X  d  X  g  X  d  X  g\n",
       "2  1Row-Xd-Xf-Xa-Xg    1Row  X  d  X  f  X  a  X  g\n",
       "3  1Row-Dx-Bg-Ef-Hd    1Row  D  x  B  g  E  f  H  d\n",
       "4  1Row-Gl-Bg-Ah-Hd    1Row  G  l  B  g  A  h  H  d\n",
       "5  1Row-Xf-Xg-Xd-Xg    1Row  X  f  X  g  X  d  X  g\n",
       "6  1Row-Hc-Rd-Xf-Ah    1Row  H  c  R  d  X  f  A  h\n",
       "7  1Row-Ae-Xd-Rx-Hf    1Row  A  e  X  d  R  x  H  f\n",
       "8  1Row-Gh-Bg-Eh-Hd    1Row  G  h  B  g  E  h  H  d\n",
       "9  1Row-Hc-Bh-Xf-Ah    1Row  H  c  B  h  X  f  A  h"
      ]
     },
     "execution_count": 88,
     "metadata": {},
     "output_type": "execute_result"
    }
   ],
   "source": [
    "sdf.head(10)"
   ]
  },
  {
   "cell_type": "code",
   "execution_count": null,
   "metadata": {
    "collapsed": true
   },
   "outputs": [],
   "source": []
  },
  {
   "cell_type": "code",
   "execution_count": null,
   "metadata": {
    "collapsed": true
   },
   "outputs": [],
   "source": []
  }
 ],
 "metadata": {
  "kernelspec": {
   "display_name": "Python 3",
   "language": "python",
   "name": "python3"
  },
  "language_info": {
   "codemirror_mode": {
    "name": "ipython",
    "version": 3
   },
   "file_extension": ".py",
   "mimetype": "text/x-python",
   "name": "python",
   "nbconvert_exporter": "python",
   "pygments_lexer": "ipython3",
   "version": "3.6.0"
  }
 },
 "nbformat": 4,
 "nbformat_minor": 2
}
