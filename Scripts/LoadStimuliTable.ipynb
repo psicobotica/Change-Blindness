{
 "cells": [
  {
   "cell_type": "markdown",
   "metadata": {},
   "source": [
    "# Stimuli Table Script\n",
    "\n",
    "## Loads all file names from a dir and creates a CSV file with a row per file\n",
    "\n",
    "### Key features of each stimulus are also included in dataframe rows (CSV rows). \n",
    " \n",
    "Raúl Arrabales - Change Blindness in Hierarchical Stimuli Project"
   ]
  },
  {
   "cell_type": "code",
   "execution_count": 47,
   "metadata": {
    "collapsed": true
   },
   "outputs": [],
   "source": [
    "from os import listdir\n",
    "from os.path import isfile, join\n",
    "\n",
    "import pandas as pd"
   ]
  },
  {
   "cell_type": "code",
   "execution_count": 48,
   "metadata": {
    "collapsed": true
   },
   "outputs": [],
   "source": [
    "# Path to dir where all stimili files are stored\n",
    "PathToStimuli = 'AllStimuli/'"
   ]
  },
  {
   "cell_type": "code",
   "execution_count": 49,
   "metadata": {
    "collapsed": false
   },
   "outputs": [
    {
     "name": "stdout",
     "output_type": "stream",
     "text": [
      "Empty DataFrame\n",
      "Columns: [FileName, Pattern, G1, L1, G2, L2, G3, L3, G4, L4]\n",
      "Index: []\n"
     ]
    }
   ],
   "source": [
    "# Dataframe to store all stimuli data\n",
    "columns = ['FileName', 'Pattern', 'G1', 'L1', 'G2', 'L2', 'G3', 'L3', 'G4', 'L4']\n",
    "sdf = pd.DataFrame(columns=columns)\n",
    "print(sdf)"
   ]
  },
  {
   "cell_type": "code",
   "execution_count": 50,
   "metadata": {
    "collapsed": false
   },
   "outputs": [],
   "source": [
    "# Get all stimuli file names\n",
    "files = [f for f in listdir(pathToStimuli) if isfile(join(PathToStimuli, f))]"
   ]
  },
  {
   "cell_type": "code",
   "execution_count": 51,
   "metadata": {
    "collapsed": false
   },
   "outputs": [
    {
     "name": "stdout",
     "output_type": "stream",
     "text": [
      "1Row-Xd-Xg-Xd-Xg.png\n"
     ]
    }
   ],
   "source": [
    "print(files[1])"
   ]
  },
  {
   "cell_type": "code",
   "execution_count": 52,
   "metadata": {
    "collapsed": false
   },
   "outputs": [
    {
     "name": "stdout",
     "output_type": "stream",
     "text": [
      "Found 22 stimulus files.\n"
     ]
    }
   ],
   "source": [
    "print('Found ' + str(len(files)) + ' stimulus files.')"
   ]
  },
  {
   "cell_type": "code",
   "execution_count": 53,
   "metadata": {
    "collapsed": true
   },
   "outputs": [],
   "source": [
    "# Get 1 Row pattern files\n",
    "files1Row = [f for f in files if f.startswith('1Row')]"
   ]
  },
  {
   "cell_type": "code",
   "execution_count": 54,
   "metadata": {
    "collapsed": false
   },
   "outputs": [
    {
     "name": "stdout",
     "output_type": "stream",
     "text": [
      "Found 22 One Row Pattern stimuli.\n"
     ]
    }
   ],
   "source": [
    "print('Found ' + str(len(files1Row)) + ' One Row Pattern stimuli.')"
   ]
  },
  {
   "cell_type": "code",
   "execution_count": 55,
   "metadata": {
    "collapsed": false
   },
   "outputs": [],
   "source": [
    "# For all 1Row stimuli: \n",
    "\n",
    "for s in files1Row:\n",
    "    \n",
    "    # Get 4 global letters and 4 local letters\n",
    "    name = s.split(\".\")[0]\n",
    "    letter1 = name.split(\"-\")[1]\n",
    "    letter2 = name.split(\"-\")[2]\n",
    "    letter3 = name.split(\"-\")[3]\n",
    "    letter4 = name.split(\"-\")[4]\n",
    "    letter1G = letter1[0]\n",
    "    letter2G = letter2[0]\n",
    "    letter3G = letter3[0]\n",
    "    letter4G = letter4[0]\n",
    "    letter1L = letter1[1]\n",
    "    letter2L = letter2[1]\n",
    "    letter3L = letter3[1]\n",
    "    letter4L = letter4[1]\n",
    "    \n",
    "    sdf.loc[len(sdf)] = [name, '1Row', letter1G, letter1L, letter2G, letter2L, letter3G, letter3L, letter4G, letter4L]\n",
    "    "
   ]
  },
  {
   "cell_type": "code",
   "execution_count": 56,
   "metadata": {
    "collapsed": true
   },
   "outputs": [],
   "source": [
    "sdf.to_csv('AllStimuli.csv', sep =';')"
   ]
  },
  {
   "cell_type": "code",
   "execution_count": 57,
   "metadata": {
    "collapsed": false
   },
   "outputs": [
    {
     "name": "stdout",
     "output_type": "stream",
     "text": [
      "            FileName Pattern G1 L1 G2 L2 G3 L3 G4 L4\n",
      "0   1Row-Xf-Xd-Xd-Xf    1Row  X  f  X  d  X  d  X  f\n",
      "1   1Row-Xd-Xg-Xd-Xg    1Row  X  d  X  g  X  d  X  g\n",
      "2   1Row-Xd-Xf-Xa-Xg    1Row  X  d  X  f  X  a  X  g\n",
      "3   1Row-Xf-Xg-Xd-Xg    1Row  X  f  X  g  X  d  X  g\n",
      "4   1Row-Xd-Xg-Xg-Xg    1Row  X  d  X  g  X  g  X  g\n",
      "5   1Row-Xg-Xg-Xg-Xg    1Row  X  g  X  g  X  g  X  g\n",
      "6   1Row-Xf-Xd-Xd-Xg    1Row  X  f  X  d  X  d  X  g\n",
      "7   1Row-Xf-Xf-Xf-Xf    1Row  X  f  X  f  X  f  X  f\n",
      "8   1Row-Xd-Xf-Xl-Xc    1Row  X  d  X  f  X  l  X  c\n",
      "9   1Row-Xd-Xf-Xd-Xg    1Row  X  d  X  f  X  d  X  g\n",
      "10  1Row-Xf-Xf-Xl-Xc    1Row  X  f  X  f  X  l  X  c\n",
      "11  1Row-Xg-Xd-Xd-Xg    1Row  X  g  X  d  X  d  X  g\n",
      "12  1Row-Xg-Xd-Xg-Xg    1Row  X  g  X  d  X  g  X  g\n",
      "13  1Row-Xf-Xf-Xl-Xl    1Row  X  f  X  f  X  l  X  l\n",
      "14  1Row-Xf-Xf-Xf-Xl    1Row  X  f  X  f  X  f  X  l\n",
      "15  1Row-Xd-Xd-Xd-Xd    1Row  X  d  X  d  X  d  X  d\n",
      "16  1Row-Xd-Xd-Xg-Xg    1Row  X  d  X  d  X  g  X  g\n",
      "17  1Row-Xf-Xg-Xf-Xg    1Row  X  f  X  g  X  f  X  g\n",
      "18  1Row-Xd-Xf-Xl-Xg    1Row  X  d  X  f  X  l  X  g\n",
      "19  1Row-Xg-Xd-Xd-Xd    1Row  X  g  X  d  X  d  X  d\n",
      "20  1Row-Xd-Xd-Xd-Xg    1Row  X  d  X  d  X  d  X  g\n",
      "21  1Row-Xf-Xf-Xf-Xg    1Row  X  f  X  f  X  f  X  g\n"
     ]
    }
   ],
   "source": [
    "print(sdf)"
   ]
  },
  {
   "cell_type": "code",
   "execution_count": null,
   "metadata": {
    "collapsed": true
   },
   "outputs": [],
   "source": []
  }
 ],
 "metadata": {
  "kernelspec": {
   "display_name": "Python 3",
   "language": "python",
   "name": "python3"
  },
  "language_info": {
   "codemirror_mode": {
    "name": "ipython",
    "version": 3
   },
   "file_extension": ".py",
   "mimetype": "text/x-python",
   "name": "python",
   "nbconvert_exporter": "python",
   "pygments_lexer": "ipython3",
   "version": "3.6.0"
  }
 },
 "nbformat": 4,
 "nbformat_minor": 2
}
