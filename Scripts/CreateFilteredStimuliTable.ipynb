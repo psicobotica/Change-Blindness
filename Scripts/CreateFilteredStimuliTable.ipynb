{
 "cells": [
  {
   "cell_type": "markdown",
   "metadata": {},
   "source": [
    "# Stimuli Table Script\n",
    "\n",
    "## Loads all file names from a dir and creates a CSV file with a row per file\n",
    "\n",
    "### Key features of each stimulus are also included in dataframe rows (CSV rows). \n",
    "### (36mm Stimuli version)\n",
    " \n",
    "Raúl Arrabales - Change Blindness in Hierarchical Stimuli Project"
   ]
  },
  {
   "cell_type": "code",
   "execution_count": 23,
   "metadata": {
    "collapsed": true
   },
   "outputs": [],
   "source": [
    "from os import listdir\n",
    "from os.path import isfile, join\n",
    "\n",
    "import pandas as pd"
   ]
  },
  {
   "cell_type": "code",
   "execution_count": 24,
   "metadata": {
    "collapsed": true
   },
   "outputs": [],
   "source": [
    "# Path to dir where all stimuli files are stored\n",
    "PathToStimuli = '/media/sf_data-sharing/BMPs'"
   ]
  },
  {
   "cell_type": "code",
   "execution_count": 25,
   "metadata": {
    "collapsed": false
   },
   "outputs": [
    {
     "data": {
      "text/html": [
       "<div>\n",
       "<table border=\"1\" class=\"dataframe\">\n",
       "  <thead>\n",
       "    <tr style=\"text-align: right;\">\n",
       "      <th></th>\n",
       "      <th>FileName</th>\n",
       "      <th>Name</th>\n",
       "      <th>Pattern</th>\n",
       "      <th>G1</th>\n",
       "      <th>L1</th>\n",
       "    </tr>\n",
       "  </thead>\n",
       "  <tbody>\n",
       "  </tbody>\n",
       "</table>\n",
       "</div>"
      ],
      "text/plain": [
       "Empty DataFrame\n",
       "Columns: [FileName, Name, Pattern, G1, L1]\n",
       "Index: []"
      ]
     },
     "execution_count": 25,
     "metadata": {},
     "output_type": "execute_result"
    }
   ],
   "source": [
    "# Dataframe to store all stimuli data\n",
    "columns = ['FileName', 'Name', 'Pattern', 'G1', 'L1']\n",
    "sdf = pd.DataFrame(columns=columns)\n",
    "sdf.head()"
   ]
  },
  {
   "cell_type": "code",
   "execution_count": 26,
   "metadata": {
    "collapsed": false
   },
   "outputs": [],
   "source": [
    "# Get all stimuli file names\n",
    "files = [f for f in listdir(PathToStimuli) if isfile(join(PathToStimuli, f))]"
   ]
  },
  {
   "cell_type": "code",
   "execution_count": 27,
   "metadata": {
    "collapsed": false
   },
   "outputs": [
    {
     "name": "stdout",
     "output_type": "stream",
     "text": [
      "Yj.bmp Th.bmp Xu.bmp\n"
     ]
    }
   ],
   "source": [
    "print(files[1] + ' ' +  files[50] + ' ' + files[150])"
   ]
  },
  {
   "cell_type": "code",
   "execution_count": 28,
   "metadata": {
    "collapsed": false
   },
   "outputs": [
    {
     "name": "stdout",
     "output_type": "stream",
     "text": [
      "Found 528 stimulus files.\n"
     ]
    }
   ],
   "source": [
    "print('Found ' + str(len(files)) + ' stimulus files.')"
   ]
  },
  {
   "cell_type": "code",
   "execution_count": 29,
   "metadata": {
    "collapsed": false
   },
   "outputs": [],
   "source": [
    "# Get Circle (single letter) pattern files\n",
    "filesCircle = [f for f in files if len(f) == 6]"
   ]
  },
  {
   "cell_type": "code",
   "execution_count": 30,
   "metadata": {
    "collapsed": false
   },
   "outputs": [
    {
     "name": "stdout",
     "output_type": "stream",
     "text": [
      "Found 528 One Letter Pattern stimuli.\n"
     ]
    }
   ],
   "source": [
    "print('Found ' + str(len(filesCircle)) + ' One Letter Pattern stimuli.')"
   ]
  },
  {
   "cell_type": "code",
   "execution_count": 31,
   "metadata": {
    "collapsed": false
   },
   "outputs": [
    {
     "name": "stdout",
     "output_type": "stream",
     "text": [
      "Found 110 One Letter Pattern Filtered stimuli.\n"
     ]
    }
   ],
   "source": [
    "# Filter out invalid letters\n",
    "lettersOut = ['i','j','w','p','g','s','r']\n",
    "filesFiltered = [f for f in filesCircle if \n",
    "                 'i' not in f and \n",
    "                 'I' not in f and\n",
    "                 'j' not in f and\n",
    "                 'J' not in f and\n",
    "                 'w' not in f and\n",
    "                 'W' not in f and\n",
    "                 'p' not in f.split(\".\")[0] and\n",
    "                 'P' not in f.split(\".\")[0] and\n",
    "                 'g' not in f and\n",
    "                 'G' not in f and\n",
    "                 's' not in f and\n",
    "                 'S' not in f and\n",
    "                 'r' not in f and\n",
    "                 'R' not in f and\n",
    "                 'd' not in f and\n",
    "                 'D' not in f and\n",
    "                 'y' not in f and\n",
    "                 'Y' not in f and\n",
    "                 'x' not in f and\n",
    "                 'X' not in f and\n",
    "                 'l' not in f and\n",
    "                 'L' not in f and\n",
    "                 't' not in f and\n",
    "                 'T' not in f and\n",
    "                 'v' not in f and\n",
    "                 'V' not in f]\n",
    "print('Found ' + str(len(filesFiltered)) + ' One Letter Pattern Filtered stimuli.')"
   ]
  },
  {
   "cell_type": "code",
   "execution_count": 32,
   "metadata": {
    "collapsed": true
   },
   "outputs": [],
   "source": [
    "# For all 1Row stimuli: \n",
    "\n",
    "for s in filesFiltered:\n",
    "    \n",
    "    # Get global letters and local letters\n",
    "    name = s.split(\".\")[0]\n",
    "    letter1G = name[0].upper()\n",
    "    letter1L = name[1].upper()\n",
    "    \n",
    "    sdf.loc[len(sdf)] = [s, name, 'Circle', letter1G, letter1L]"
   ]
  },
  {
   "cell_type": "code",
   "execution_count": 33,
   "metadata": {
    "collapsed": true
   },
   "outputs": [],
   "source": [
    "sdf.to_csv('FilteredCircleStimuli.csv', sep =';',index_label='StimulusId')"
   ]
  },
  {
   "cell_type": "code",
   "execution_count": 34,
   "metadata": {
    "collapsed": false,
    "scrolled": true
   },
   "outputs": [
    {
     "data": {
      "text/html": [
       "<div>\n",
       "<table border=\"1\" class=\"dataframe\">\n",
       "  <thead>\n",
       "    <tr style=\"text-align: right;\">\n",
       "      <th></th>\n",
       "      <th>FileName</th>\n",
       "      <th>Name</th>\n",
       "      <th>Pattern</th>\n",
       "      <th>G1</th>\n",
       "      <th>L1</th>\n",
       "    </tr>\n",
       "  </thead>\n",
       "  <tbody>\n",
       "    <tr>\n",
       "      <th>0</th>\n",
       "      <td>Za.bmp</td>\n",
       "      <td>Za</td>\n",
       "      <td>Circle</td>\n",
       "      <td>Z</td>\n",
       "      <td>A</td>\n",
       "    </tr>\n",
       "    <tr>\n",
       "      <th>1</th>\n",
       "      <td>Zc.bmp</td>\n",
       "      <td>Zc</td>\n",
       "      <td>Circle</td>\n",
       "      <td>Z</td>\n",
       "      <td>C</td>\n",
       "    </tr>\n",
       "    <tr>\n",
       "      <th>2</th>\n",
       "      <td>Ze.bmp</td>\n",
       "      <td>Ze</td>\n",
       "      <td>Circle</td>\n",
       "      <td>Z</td>\n",
       "      <td>E</td>\n",
       "    </tr>\n",
       "    <tr>\n",
       "      <th>3</th>\n",
       "      <td>Zf.bmp</td>\n",
       "      <td>Zf</td>\n",
       "      <td>Circle</td>\n",
       "      <td>Z</td>\n",
       "      <td>F</td>\n",
       "    </tr>\n",
       "    <tr>\n",
       "      <th>4</th>\n",
       "      <td>Zh.bmp</td>\n",
       "      <td>Zh</td>\n",
       "      <td>Circle</td>\n",
       "      <td>Z</td>\n",
       "      <td>H</td>\n",
       "    </tr>\n",
       "    <tr>\n",
       "      <th>5</th>\n",
       "      <td>Zk.bmp</td>\n",
       "      <td>Zk</td>\n",
       "      <td>Circle</td>\n",
       "      <td>Z</td>\n",
       "      <td>K</td>\n",
       "    </tr>\n",
       "    <tr>\n",
       "      <th>6</th>\n",
       "      <td>Zm.bmp</td>\n",
       "      <td>Zm</td>\n",
       "      <td>Circle</td>\n",
       "      <td>Z</td>\n",
       "      <td>M</td>\n",
       "    </tr>\n",
       "    <tr>\n",
       "      <th>7</th>\n",
       "      <td>Zn.bmp</td>\n",
       "      <td>Zn</td>\n",
       "      <td>Circle</td>\n",
       "      <td>Z</td>\n",
       "      <td>N</td>\n",
       "    </tr>\n",
       "    <tr>\n",
       "      <th>8</th>\n",
       "      <td>Zo.bmp</td>\n",
       "      <td>Zo</td>\n",
       "      <td>Circle</td>\n",
       "      <td>Z</td>\n",
       "      <td>O</td>\n",
       "    </tr>\n",
       "    <tr>\n",
       "      <th>9</th>\n",
       "      <td>Zu.bmp</td>\n",
       "      <td>Zu</td>\n",
       "      <td>Circle</td>\n",
       "      <td>Z</td>\n",
       "      <td>U</td>\n",
       "    </tr>\n",
       "  </tbody>\n",
       "</table>\n",
       "</div>"
      ],
      "text/plain": [
       "  FileName Name Pattern G1 L1\n",
       "0   Za.bmp   Za  Circle  Z  A\n",
       "1   Zc.bmp   Zc  Circle  Z  C\n",
       "2   Ze.bmp   Ze  Circle  Z  E\n",
       "3   Zf.bmp   Zf  Circle  Z  F\n",
       "4   Zh.bmp   Zh  Circle  Z  H\n",
       "5   Zk.bmp   Zk  Circle  Z  K\n",
       "6   Zm.bmp   Zm  Circle  Z  M\n",
       "7   Zn.bmp   Zn  Circle  Z  N\n",
       "8   Zo.bmp   Zo  Circle  Z  O\n",
       "9   Zu.bmp   Zu  Circle  Z  U"
      ]
     },
     "execution_count": 34,
     "metadata": {},
     "output_type": "execute_result"
    }
   ],
   "source": [
    "sdf.head(10)"
   ]
  },
  {
   "cell_type": "code",
   "execution_count": 35,
   "metadata": {
    "collapsed": false
   },
   "outputs": [
    {
     "data": {
      "text/plain": [
       "110"
      ]
     },
     "execution_count": 35,
     "metadata": {},
     "output_type": "execute_result"
    }
   ],
   "source": [
    "len(sdf)"
   ]
  },
  {
   "cell_type": "code",
   "execution_count": 36,
   "metadata": {
    "collapsed": false
   },
   "outputs": [],
   "source": [
    "sdf = None"
   ]
  },
  {
   "cell_type": "code",
   "execution_count": null,
   "metadata": {
    "collapsed": true
   },
   "outputs": [],
   "source": []
  }
 ],
 "metadata": {
  "kernelspec": {
   "display_name": "Python 3",
   "language": "python",
   "name": "python3"
  },
  "language_info": {
   "codemirror_mode": {
    "name": "ipython",
    "version": 3
   },
   "file_extension": ".py",
   "mimetype": "text/x-python",
   "name": "python",
   "nbconvert_exporter": "python",
   "pygments_lexer": "ipython3",
   "version": "3.6.0"
  }
 },
 "nbformat": 4,
 "nbformat_minor": 2
}
