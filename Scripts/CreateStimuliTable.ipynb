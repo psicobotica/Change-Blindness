{
 "cells": [
  {
   "cell_type": "markdown",
   "metadata": {},
   "source": [
    "# Stimuli Table Script\n",
    "\n",
    "## Loads all file names from a dir and creates a CSV file with a row per file\n",
    "\n",
    "### Key features of each stimulus are also included in dataframe rows (CSV rows). \n",
    "### (36mm Stimuli version)\n",
    " \n",
    "Raúl Arrabales - Change Blindness in Hierarchical Stimuli Project"
   ]
  },
  {
   "cell_type": "code",
   "execution_count": 52,
   "metadata": {
    "collapsed": true
   },
   "outputs": [],
   "source": [
    "from os import listdir\n",
    "from os.path import isfile, join\n",
    "\n",
    "import pandas as pd"
   ]
  },
  {
   "cell_type": "code",
   "execution_count": 53,
   "metadata": {
    "collapsed": true
   },
   "outputs": [],
   "source": [
    "# Path to dir where all stimuli files are stored\n",
    "PathToStimuli = '/media/sf_data-sharing/BMPs'"
   ]
  },
  {
   "cell_type": "code",
   "execution_count": 54,
   "metadata": {
    "collapsed": false
   },
   "outputs": [
    {
     "data": {
      "text/html": [
       "<div>\n",
       "<table border=\"1\" class=\"dataframe\">\n",
       "  <thead>\n",
       "    <tr style=\"text-align: right;\">\n",
       "      <th></th>\n",
       "      <th>FileName</th>\n",
       "      <th>Name</th>\n",
       "      <th>Pattern</th>\n",
       "      <th>G1</th>\n",
       "      <th>L1</th>\n",
       "    </tr>\n",
       "  </thead>\n",
       "  <tbody>\n",
       "  </tbody>\n",
       "</table>\n",
       "</div>"
      ],
      "text/plain": [
       "Empty DataFrame\n",
       "Columns: [FileName, Name, Pattern, G1, L1]\n",
       "Index: []"
      ]
     },
     "execution_count": 54,
     "metadata": {},
     "output_type": "execute_result"
    }
   ],
   "source": [
    "# Dataframe to store all stimuli data\n",
    "columns = ['FileName', 'Name', 'Pattern', 'G1', 'L1']\n",
    "sdf = pd.DataFrame(columns=columns)\n",
    "sdf.head()"
   ]
  },
  {
   "cell_type": "code",
   "execution_count": 55,
   "metadata": {
    "collapsed": false
   },
   "outputs": [],
   "source": [
    "# Get all stimuli file names\n",
    "files = [f for f in listdir(PathToStimuli) if isfile(join(PathToStimuli, f))]"
   ]
  },
  {
   "cell_type": "code",
   "execution_count": 56,
   "metadata": {
    "collapsed": false
   },
   "outputs": [
    {
     "name": "stdout",
     "output_type": "stream",
     "text": [
      "Yj.bmp Th.bmp Xu.bmp\n"
     ]
    }
   ],
   "source": [
    "print(files[1] + ' ' +  files[50] + ' ' + files[150])"
   ]
  },
  {
   "cell_type": "code",
   "execution_count": 57,
   "metadata": {
    "collapsed": false
   },
   "outputs": [
    {
     "name": "stdout",
     "output_type": "stream",
     "text": [
      "Found 528 stimulus files.\n"
     ]
    }
   ],
   "source": [
    "print('Found ' + str(len(files)) + ' stimulus files.')"
   ]
  },
  {
   "cell_type": "code",
   "execution_count": 58,
   "metadata": {
    "collapsed": false
   },
   "outputs": [],
   "source": [
    "# Get Circle (single letter) pattern files\n",
    "filesCircle = [f for f in files if len(f) == 6]"
   ]
  },
  {
   "cell_type": "code",
   "execution_count": 59,
   "metadata": {
    "collapsed": false
   },
   "outputs": [
    {
     "name": "stdout",
     "output_type": "stream",
     "text": [
      "Found 528 One Letter Pattern stimuli.\n"
     ]
    }
   ],
   "source": [
    "print('Found ' + str(len(filesCircle)) + ' One Letter Pattern stimuli.')"
   ]
  },
  {
   "cell_type": "code",
   "execution_count": 60,
   "metadata": {
    "collapsed": true
   },
   "outputs": [],
   "source": [
    "# For all 1Row stimuli: \n",
    "\n",
    "for s in filesCircle:\n",
    "    \n",
    "    # Get global letters and local letters\n",
    "    name = s.split(\".\")[0]\n",
    "    letter1G = name[0].upper()\n",
    "    letter1L = name[1].upper()\n",
    "    \n",
    "    sdf.loc[len(sdf)] = [s, name, 'Circle', letter1G, letter1L]"
   ]
  },
  {
   "cell_type": "code",
   "execution_count": 61,
   "metadata": {
    "collapsed": true
   },
   "outputs": [],
   "source": [
    "sdf.to_csv('AllCircleStimuli.csv', sep =';',index_label='StimulusId')"
   ]
  },
  {
   "cell_type": "code",
   "execution_count": 62,
   "metadata": {
    "collapsed": false
   },
   "outputs": [
    {
     "data": {
      "text/html": [
       "<div>\n",
       "<table border=\"1\" class=\"dataframe\">\n",
       "  <thead>\n",
       "    <tr style=\"text-align: right;\">\n",
       "      <th></th>\n",
       "      <th>FileName</th>\n",
       "      <th>Name</th>\n",
       "      <th>Pattern</th>\n",
       "      <th>G1</th>\n",
       "      <th>L1</th>\n",
       "    </tr>\n",
       "  </thead>\n",
       "  <tbody>\n",
       "    <tr>\n",
       "      <th>0</th>\n",
       "      <td>Yi.bmp</td>\n",
       "      <td>Yi</td>\n",
       "      <td>Circle</td>\n",
       "      <td>Y</td>\n",
       "      <td>I</td>\n",
       "    </tr>\n",
       "    <tr>\n",
       "      <th>1</th>\n",
       "      <td>Yj.bmp</td>\n",
       "      <td>Yj</td>\n",
       "      <td>Circle</td>\n",
       "      <td>Y</td>\n",
       "      <td>J</td>\n",
       "    </tr>\n",
       "    <tr>\n",
       "      <th>2</th>\n",
       "      <td>Yk.bmp</td>\n",
       "      <td>Yk</td>\n",
       "      <td>Circle</td>\n",
       "      <td>Y</td>\n",
       "      <td>K</td>\n",
       "    </tr>\n",
       "    <tr>\n",
       "      <th>3</th>\n",
       "      <td>Yl.bmp</td>\n",
       "      <td>Yl</td>\n",
       "      <td>Circle</td>\n",
       "      <td>Y</td>\n",
       "      <td>L</td>\n",
       "    </tr>\n",
       "    <tr>\n",
       "      <th>4</th>\n",
       "      <td>Ym.bmp</td>\n",
       "      <td>Ym</td>\n",
       "      <td>Circle</td>\n",
       "      <td>Y</td>\n",
       "      <td>M</td>\n",
       "    </tr>\n",
       "    <tr>\n",
       "      <th>5</th>\n",
       "      <td>Yn.bmp</td>\n",
       "      <td>Yn</td>\n",
       "      <td>Circle</td>\n",
       "      <td>Y</td>\n",
       "      <td>N</td>\n",
       "    </tr>\n",
       "    <tr>\n",
       "      <th>6</th>\n",
       "      <td>Yo.bmp</td>\n",
       "      <td>Yo</td>\n",
       "      <td>Circle</td>\n",
       "      <td>Y</td>\n",
       "      <td>O</td>\n",
       "    </tr>\n",
       "    <tr>\n",
       "      <th>7</th>\n",
       "      <td>Yp.bmp</td>\n",
       "      <td>Yp</td>\n",
       "      <td>Circle</td>\n",
       "      <td>Y</td>\n",
       "      <td>P</td>\n",
       "    </tr>\n",
       "    <tr>\n",
       "      <th>8</th>\n",
       "      <td>Yr.bmp</td>\n",
       "      <td>Yr</td>\n",
       "      <td>Circle</td>\n",
       "      <td>Y</td>\n",
       "      <td>R</td>\n",
       "    </tr>\n",
       "    <tr>\n",
       "      <th>9</th>\n",
       "      <td>Ys.bmp</td>\n",
       "      <td>Ys</td>\n",
       "      <td>Circle</td>\n",
       "      <td>Y</td>\n",
       "      <td>S</td>\n",
       "    </tr>\n",
       "  </tbody>\n",
       "</table>\n",
       "</div>"
      ],
      "text/plain": [
       "  FileName Name Pattern G1 L1\n",
       "0   Yi.bmp   Yi  Circle  Y  I\n",
       "1   Yj.bmp   Yj  Circle  Y  J\n",
       "2   Yk.bmp   Yk  Circle  Y  K\n",
       "3   Yl.bmp   Yl  Circle  Y  L\n",
       "4   Ym.bmp   Ym  Circle  Y  M\n",
       "5   Yn.bmp   Yn  Circle  Y  N\n",
       "6   Yo.bmp   Yo  Circle  Y  O\n",
       "7   Yp.bmp   Yp  Circle  Y  P\n",
       "8   Yr.bmp   Yr  Circle  Y  R\n",
       "9   Ys.bmp   Ys  Circle  Y  S"
      ]
     },
     "execution_count": 62,
     "metadata": {},
     "output_type": "execute_result"
    }
   ],
   "source": [
    "sdf.head(10)"
   ]
  },
  {
   "cell_type": "code",
   "execution_count": 63,
   "metadata": {
    "collapsed": false
   },
   "outputs": [
    {
     "data": {
      "text/plain": [
       "528"
      ]
     },
     "execution_count": 63,
     "metadata": {},
     "output_type": "execute_result"
    }
   ],
   "source": [
    "len(sdf)"
   ]
  },
  {
   "cell_type": "code",
   "execution_count": 50,
   "metadata": {
    "collapsed": false
   },
   "outputs": [],
   "source": [
    "sdf = None"
   ]
  },
  {
   "cell_type": "code",
   "execution_count": null,
   "metadata": {
    "collapsed": true
   },
   "outputs": [],
   "source": []
  }
 ],
 "metadata": {
  "kernelspec": {
   "display_name": "Python 3",
   "language": "python",
   "name": "python3"
  },
  "language_info": {
   "codemirror_mode": {
    "name": "ipython",
    "version": 3
   },
   "file_extension": ".py",
   "mimetype": "text/x-python",
   "name": "python",
   "nbconvert_exporter": "python",
   "pygments_lexer": "ipython3",
   "version": "3.6.0"
  }
 },
 "nbformat": 4,
 "nbformat_minor": 2
}
