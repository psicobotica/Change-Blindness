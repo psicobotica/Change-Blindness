{
 "cells": [
  {
   "cell_type": "markdown",
   "metadata": {},
   "source": [
    "# Trials Generation Script\n",
    "\n",
    "## Loads all stimuli details from a CSV and generates trial sets\n",
    "\n",
    "### Key features of each stimulus are also included in dataframe rows (CSV rows). \n",
    " \n",
    "Raúl Arrabales - Change Blindness in Hierarchical Stimuli Project"
   ]
  },
  {
   "cell_type": "code",
   "execution_count": 125,
   "metadata": {
    "collapsed": true
   },
   "outputs": [],
   "source": [
    "from os import listdir\n",
    "from os.path import isfile, join\n",
    "\n",
    "import pandas as pd"
   ]
  },
  {
   "cell_type": "code",
   "execution_count": 126,
   "metadata": {
    "collapsed": false
   },
   "outputs": [],
   "source": [
    "# Load dataframe with all stimuli\n",
    "sdf = pd.read_csv('AllStimuli.csv',sep=';')"
   ]
  },
  {
   "cell_type": "code",
   "execution_count": 127,
   "metadata": {
    "collapsed": false
   },
   "outputs": [
    {
     "data": {
      "text/html": [
       "<div>\n",
       "<table border=\"1\" class=\"dataframe\">\n",
       "  <thead>\n",
       "    <tr style=\"text-align: right;\">\n",
       "      <th></th>\n",
       "      <th>StimulusId</th>\n",
       "      <th>FileName</th>\n",
       "      <th>Pattern</th>\n",
       "      <th>G1</th>\n",
       "      <th>L1</th>\n",
       "      <th>G2</th>\n",
       "      <th>L2</th>\n",
       "      <th>G3</th>\n",
       "      <th>L3</th>\n",
       "      <th>G4</th>\n",
       "      <th>L4</th>\n",
       "    </tr>\n",
       "  </thead>\n",
       "  <tbody>\n",
       "    <tr>\n",
       "      <th>0</th>\n",
       "      <td>0</td>\n",
       "      <td>1Row-Xf-Xd-Xd-Xf</td>\n",
       "      <td>1Row</td>\n",
       "      <td>X</td>\n",
       "      <td>f</td>\n",
       "      <td>X</td>\n",
       "      <td>d</td>\n",
       "      <td>X</td>\n",
       "      <td>d</td>\n",
       "      <td>X</td>\n",
       "      <td>f</td>\n",
       "    </tr>\n",
       "    <tr>\n",
       "      <th>1</th>\n",
       "      <td>1</td>\n",
       "      <td>1Row-Xd-Xg-Xd-Xg</td>\n",
       "      <td>1Row</td>\n",
       "      <td>X</td>\n",
       "      <td>d</td>\n",
       "      <td>X</td>\n",
       "      <td>g</td>\n",
       "      <td>X</td>\n",
       "      <td>d</td>\n",
       "      <td>X</td>\n",
       "      <td>g</td>\n",
       "    </tr>\n",
       "    <tr>\n",
       "      <th>2</th>\n",
       "      <td>2</td>\n",
       "      <td>1Row-Xd-Xf-Xa-Xg</td>\n",
       "      <td>1Row</td>\n",
       "      <td>X</td>\n",
       "      <td>d</td>\n",
       "      <td>X</td>\n",
       "      <td>f</td>\n",
       "      <td>X</td>\n",
       "      <td>a</td>\n",
       "      <td>X</td>\n",
       "      <td>g</td>\n",
       "    </tr>\n",
       "    <tr>\n",
       "      <th>3</th>\n",
       "      <td>3</td>\n",
       "      <td>1Row-Dx-Bg-Ef-Hd</td>\n",
       "      <td>1Row</td>\n",
       "      <td>D</td>\n",
       "      <td>x</td>\n",
       "      <td>B</td>\n",
       "      <td>g</td>\n",
       "      <td>E</td>\n",
       "      <td>f</td>\n",
       "      <td>H</td>\n",
       "      <td>d</td>\n",
       "    </tr>\n",
       "    <tr>\n",
       "      <th>4</th>\n",
       "      <td>4</td>\n",
       "      <td>1Row-Gl-Bg-Ah-Hd</td>\n",
       "      <td>1Row</td>\n",
       "      <td>G</td>\n",
       "      <td>l</td>\n",
       "      <td>B</td>\n",
       "      <td>g</td>\n",
       "      <td>A</td>\n",
       "      <td>h</td>\n",
       "      <td>H</td>\n",
       "      <td>d</td>\n",
       "    </tr>\n",
       "    <tr>\n",
       "      <th>5</th>\n",
       "      <td>5</td>\n",
       "      <td>1Row-Xf-Xg-Xd-Xg</td>\n",
       "      <td>1Row</td>\n",
       "      <td>X</td>\n",
       "      <td>f</td>\n",
       "      <td>X</td>\n",
       "      <td>g</td>\n",
       "      <td>X</td>\n",
       "      <td>d</td>\n",
       "      <td>X</td>\n",
       "      <td>g</td>\n",
       "    </tr>\n",
       "    <tr>\n",
       "      <th>6</th>\n",
       "      <td>6</td>\n",
       "      <td>1Row-Hc-Rd-Xf-Ah</td>\n",
       "      <td>1Row</td>\n",
       "      <td>H</td>\n",
       "      <td>c</td>\n",
       "      <td>R</td>\n",
       "      <td>d</td>\n",
       "      <td>X</td>\n",
       "      <td>f</td>\n",
       "      <td>A</td>\n",
       "      <td>h</td>\n",
       "    </tr>\n",
       "    <tr>\n",
       "      <th>7</th>\n",
       "      <td>7</td>\n",
       "      <td>1Row-Ae-Xd-Rx-Hf</td>\n",
       "      <td>1Row</td>\n",
       "      <td>A</td>\n",
       "      <td>e</td>\n",
       "      <td>X</td>\n",
       "      <td>d</td>\n",
       "      <td>R</td>\n",
       "      <td>x</td>\n",
       "      <td>H</td>\n",
       "      <td>f</td>\n",
       "    </tr>\n",
       "    <tr>\n",
       "      <th>8</th>\n",
       "      <td>8</td>\n",
       "      <td>1Row-Gh-Bg-Eh-Hd</td>\n",
       "      <td>1Row</td>\n",
       "      <td>G</td>\n",
       "      <td>h</td>\n",
       "      <td>B</td>\n",
       "      <td>g</td>\n",
       "      <td>E</td>\n",
       "      <td>h</td>\n",
       "      <td>H</td>\n",
       "      <td>d</td>\n",
       "    </tr>\n",
       "    <tr>\n",
       "      <th>9</th>\n",
       "      <td>9</td>\n",
       "      <td>1Row-Hc-Bh-Xf-Ah</td>\n",
       "      <td>1Row</td>\n",
       "      <td>H</td>\n",
       "      <td>c</td>\n",
       "      <td>B</td>\n",
       "      <td>h</td>\n",
       "      <td>X</td>\n",
       "      <td>f</td>\n",
       "      <td>A</td>\n",
       "      <td>h</td>\n",
       "    </tr>\n",
       "  </tbody>\n",
       "</table>\n",
       "</div>"
      ],
      "text/plain": [
       "   StimulusId          FileName Pattern G1 L1 G2 L2 G3 L3 G4 L4\n",
       "0           0  1Row-Xf-Xd-Xd-Xf    1Row  X  f  X  d  X  d  X  f\n",
       "1           1  1Row-Xd-Xg-Xd-Xg    1Row  X  d  X  g  X  d  X  g\n",
       "2           2  1Row-Xd-Xf-Xa-Xg    1Row  X  d  X  f  X  a  X  g\n",
       "3           3  1Row-Dx-Bg-Ef-Hd    1Row  D  x  B  g  E  f  H  d\n",
       "4           4  1Row-Gl-Bg-Ah-Hd    1Row  G  l  B  g  A  h  H  d\n",
       "5           5  1Row-Xf-Xg-Xd-Xg    1Row  X  f  X  g  X  d  X  g\n",
       "6           6  1Row-Hc-Rd-Xf-Ah    1Row  H  c  R  d  X  f  A  h\n",
       "7           7  1Row-Ae-Xd-Rx-Hf    1Row  A  e  X  d  R  x  H  f\n",
       "8           8  1Row-Gh-Bg-Eh-Hd    1Row  G  h  B  g  E  h  H  d\n",
       "9           9  1Row-Hc-Bh-Xf-Ah    1Row  H  c  B  h  X  f  A  h"
      ]
     },
     "execution_count": 127,
     "metadata": {},
     "output_type": "execute_result"
    }
   ],
   "source": [
    "# Stimuli table\n",
    "sdf.head(10)"
   ]
  },
  {
   "cell_type": "code",
   "execution_count": 128,
   "metadata": {
    "collapsed": false
   },
   "outputs": [
    {
     "data": {
      "text/html": [
       "<div>\n",
       "<table border=\"1\" class=\"dataframe\">\n",
       "  <thead>\n",
       "    <tr style=\"text-align: right;\">\n",
       "      <th></th>\n",
       "      <th>StimulusId</th>\n",
       "    </tr>\n",
       "  </thead>\n",
       "  <tbody>\n",
       "    <tr>\n",
       "      <th>count</th>\n",
       "      <td>59.000000</td>\n",
       "    </tr>\n",
       "    <tr>\n",
       "      <th>mean</th>\n",
       "      <td>29.000000</td>\n",
       "    </tr>\n",
       "    <tr>\n",
       "      <th>std</th>\n",
       "      <td>17.175564</td>\n",
       "    </tr>\n",
       "    <tr>\n",
       "      <th>min</th>\n",
       "      <td>0.000000</td>\n",
       "    </tr>\n",
       "    <tr>\n",
       "      <th>25%</th>\n",
       "      <td>14.500000</td>\n",
       "    </tr>\n",
       "    <tr>\n",
       "      <th>50%</th>\n",
       "      <td>29.000000</td>\n",
       "    </tr>\n",
       "    <tr>\n",
       "      <th>75%</th>\n",
       "      <td>43.500000</td>\n",
       "    </tr>\n",
       "    <tr>\n",
       "      <th>max</th>\n",
       "      <td>58.000000</td>\n",
       "    </tr>\n",
       "  </tbody>\n",
       "</table>\n",
       "</div>"
      ],
      "text/plain": [
       "       StimulusId\n",
       "count   59.000000\n",
       "mean    29.000000\n",
       "std     17.175564\n",
       "min      0.000000\n",
       "25%     14.500000\n",
       "50%     29.000000\n",
       "75%     43.500000\n",
       "max     58.000000"
      ]
     },
     "execution_count": 128,
     "metadata": {},
     "output_type": "execute_result"
    }
   ],
   "source": [
    "# Stimuli table stats\n",
    "sdf.describe()"
   ]
  },
  {
   "cell_type": "code",
   "execution_count": 129,
   "metadata": {
    "collapsed": false
   },
   "outputs": [
    {
     "data": {
      "text/html": [
       "<div>\n",
       "<table border=\"1\" class=\"dataframe\">\n",
       "  <thead>\n",
       "    <tr style=\"text-align: right;\">\n",
       "      <th></th>\n",
       "      <th>TrialId</th>\n",
       "      <th>S1</th>\n",
       "      <th>S2</th>\n",
       "      <th>ISI</th>\n",
       "      <th>ChangeType</th>\n",
       "      <th>Correct</th>\n",
       "    </tr>\n",
       "  </thead>\n",
       "  <tbody>\n",
       "  </tbody>\n",
       "</table>\n",
       "</div>"
      ],
      "text/plain": [
       "Empty DataFrame\n",
       "Columns: [TrialId, S1, S2, ISI, ChangeType, Correct]\n",
       "Index: []"
      ]
     },
     "execution_count": 129,
     "metadata": {},
     "output_type": "execute_result"
    }
   ],
   "source": [
    "# Dataframe to store all trials\n",
    "trial_columns = [\n",
    "    'TrialId',     # Trial ID\n",
    "    'S1',          # Stimulus 1\n",
    "    'S2',          # Stimulus 2\n",
    "    'ISI',         # ISI (inter-stimulus interval) is ms\n",
    "    'ChangeType',  # Type of change (L:local, G:global, M:local and global, N:no change, Z: Multiple changes)\n",
    "    'Correct']     # Correct key to press (L, G, N, M, Z)\n",
    "trials_df = pd.DataFrame(columns=trial_columns)\n",
    "trials_df.head()"
   ]
  },
  {
   "cell_type": "code",
   "execution_count": 130,
   "metadata": {
    "collapsed": true
   },
   "outputs": [],
   "source": [
    "# Number of local changes between two stimuli\n",
    "def LocalChanges( S1, S2 ):\n",
    "    numLocalChanges = 0\n",
    "    \n",
    "    if S1['L1'] != S2['L1']:\n",
    "        numLocalChanges +=1\n",
    "    if S1['L2'] != S2['L2']:\n",
    "        numLocalChanges +=1\n",
    "    if S1['L3'] != S2['L3']:\n",
    "        numLocalChanges +=1\n",
    "    if S1['L4'] != S2['L4']:\n",
    "        numLocalChanges +=1    \n",
    "        \n",
    "    return numLocalChanges\n"
   ]
  },
  {
   "cell_type": "code",
   "execution_count": 131,
   "metadata": {
    "collapsed": true
   },
   "outputs": [],
   "source": [
    "# Number of global changes between two stimuli\n",
    "def GlobalChanges( S1, S2 ):\n",
    "    numGlobalChanges = 0\n",
    "    \n",
    "    if S1['G1'] != S2['G1']:\n",
    "        numGlobalChanges +=1\n",
    "    if S1['G2'] != S2['G2']:\n",
    "        numGlobalChanges +=1\n",
    "    if S1['G3'] != S2['G3']:\n",
    "        numGlobalChanges +=1\n",
    "    if S1['G4'] != S2['G4']:\n",
    "        numGlobalChanges +=1 \n",
    "        \n",
    "    return numGlobalChanges\n"
   ]
  },
  {
   "cell_type": "code",
   "execution_count": 132,
   "metadata": {
    "collapsed": true
   },
   "outputs": [],
   "source": [
    "# Given one local and one global change, True if both changes are in the same letter (position)\n",
    "def MChange( S1, S2):\n",
    "    posLocal = 0\n",
    "    posGlobal = 0\n",
    "    \n",
    "    if S1['L1'] != S2['L1']:\n",
    "        posLocal = 1\n",
    "    elif S1['L2'] != S2['L2']:\n",
    "        posLocal = 2\n",
    "    elif S1['L3'] != S2['L3']:\n",
    "        posLocal = 3\n",
    "    elif S1['L4'] != S2['L4']:\n",
    "        posLocal = 4\n",
    "        \n",
    "    if S1['G1'] != S2['G1']:\n",
    "        posGlobal = 1\n",
    "    if S1['G2'] != S2['G2']:\n",
    "        posGlobal = 2\n",
    "    if S1['G3'] != S2['G3']:\n",
    "        posGlobal = 3\n",
    "    if S1['G4'] != S2['G4']:\n",
    "        posGlobal = 4\n",
    "        \n",
    "    return posLocal == posGlobal\n",
    "    "
   ]
  },
  {
   "cell_type": "code",
   "execution_count": 135,
   "metadata": {
    "collapsed": false
   },
   "outputs": [
    {
     "name": "stdout",
     "output_type": "stream",
     "text": [
      "Processing...\n",
      "Done. Processed: 3481 trials.\n"
     ]
    }
   ],
   "source": [
    "# Iterate over all rows combined with all (same) rows - NxN combinations\n",
    "trials_df = pd.DataFrame(columns=trial_columns) # Reset trials df\n",
    "i = 0\n",
    "ISI = 250\n",
    "print('Processing...')\n",
    "for index1, row1 in sdf.iterrows():\n",
    "    for index2, row2 in sdf.iterrows():\n",
    "        # print('Processing trial Id '+str(i)+': S'+str(index1)+' and S'+str(index2) )\n",
    "        i += 1\n",
    "        \n",
    "        # N - No Change from S1 to S2\n",
    "        if index1 == index2: \n",
    "            change = 'N' # Same stimulus means no change\n",
    "            trials_df.loc[len(trials_df)] = [str(i), row1['FileName'], row2['FileName'], str(ISI), change, change]\n",
    "            \n",
    "        # L - One Local Change from S1 to S2\n",
    "        elif LocalChanges(row1, row2) == 1 and GlobalChanges(row1, row2) == 0:\n",
    "            change = 'L'\n",
    "            trials_df.loc[len(trials_df)] = [str(i), row1['FileName'], row2['FileName'], str(ISI), change, change]\n",
    "        \n",
    "        # G - One Global Change from S1 to S2\n",
    "        elif LocalChanges(row1, row2) == 0 and GlobalChanges(row1, row2) == 1:\n",
    "            change = 'G'\n",
    "            trials_df.loc[len(trials_df)] = [str(i), row1['FileName'], row2['FileName'], str(ISI), change, change]\n",
    "                        \n",
    "        # M - One Local and One Global Change from S1 to S2\n",
    "        elif LocalChanges(row1, row2) == 1 and GlobalChanges(row1, row2) == 1 and MChange(row1, row2):\n",
    "            change = 'M'\n",
    "            trials_df.loc[len(trials_df)] = [str(i), row1['FileName'], row2['FileName'], str(ISI), change, change]\n",
    "            \n",
    "        # Z - More than one change in same letter\n",
    "        else:\n",
    "            change = 'Z'\n",
    "            trials_df.loc[len(trials_df)] = [str(i), row1['FileName'], row2['FileName'], str(ISI), change, change]\n",
    "\n",
    "print('Done. Processed: ' +str(i)+ ' trials.')\n",
    "        \n",
    "                   "
   ]
  },
  {
   "cell_type": "code",
   "execution_count": 136,
   "metadata": {
    "collapsed": false
   },
   "outputs": [
    {
     "name": "stdout",
     "output_type": "stream",
     "text": [
      "Total number of trials generated: 3481\n"
     ]
    }
   ],
   "source": [
    "print('Total number of trials generated: ' + str(len(trials_df)))"
   ]
  },
  {
   "cell_type": "code",
   "execution_count": 137,
   "metadata": {
    "collapsed": false
   },
   "outputs": [
    {
     "data": {
      "text/html": [
       "<div>\n",
       "<table border=\"1\" class=\"dataframe\">\n",
       "  <thead>\n",
       "    <tr style=\"text-align: right;\">\n",
       "      <th></th>\n",
       "      <th>TrialId</th>\n",
       "      <th>S1</th>\n",
       "      <th>S2</th>\n",
       "      <th>ISI</th>\n",
       "      <th>ChangeType</th>\n",
       "      <th>Correct</th>\n",
       "    </tr>\n",
       "  </thead>\n",
       "  <tbody>\n",
       "    <tr>\n",
       "      <th>0</th>\n",
       "      <td>1</td>\n",
       "      <td>1Row-Xf-Xd-Xd-Xf</td>\n",
       "      <td>1Row-Xf-Xd-Xd-Xf</td>\n",
       "      <td>250</td>\n",
       "      <td>N</td>\n",
       "      <td>N</td>\n",
       "    </tr>\n",
       "    <tr>\n",
       "      <th>1</th>\n",
       "      <td>2</td>\n",
       "      <td>1Row-Xf-Xd-Xd-Xf</td>\n",
       "      <td>1Row-Xd-Xg-Xd-Xg</td>\n",
       "      <td>250</td>\n",
       "      <td>Z</td>\n",
       "      <td>Z</td>\n",
       "    </tr>\n",
       "    <tr>\n",
       "      <th>2</th>\n",
       "      <td>3</td>\n",
       "      <td>1Row-Xf-Xd-Xd-Xf</td>\n",
       "      <td>1Row-Xd-Xf-Xa-Xg</td>\n",
       "      <td>250</td>\n",
       "      <td>Z</td>\n",
       "      <td>Z</td>\n",
       "    </tr>\n",
       "    <tr>\n",
       "      <th>3</th>\n",
       "      <td>4</td>\n",
       "      <td>1Row-Xf-Xd-Xd-Xf</td>\n",
       "      <td>1Row-Dx-Bg-Ef-Hd</td>\n",
       "      <td>250</td>\n",
       "      <td>Z</td>\n",
       "      <td>Z</td>\n",
       "    </tr>\n",
       "    <tr>\n",
       "      <th>4</th>\n",
       "      <td>5</td>\n",
       "      <td>1Row-Xf-Xd-Xd-Xf</td>\n",
       "      <td>1Row-Gl-Bg-Ah-Hd</td>\n",
       "      <td>250</td>\n",
       "      <td>Z</td>\n",
       "      <td>Z</td>\n",
       "    </tr>\n",
       "    <tr>\n",
       "      <th>5</th>\n",
       "      <td>6</td>\n",
       "      <td>1Row-Xf-Xd-Xd-Xf</td>\n",
       "      <td>1Row-Xf-Xg-Xd-Xg</td>\n",
       "      <td>250</td>\n",
       "      <td>Z</td>\n",
       "      <td>Z</td>\n",
       "    </tr>\n",
       "    <tr>\n",
       "      <th>6</th>\n",
       "      <td>7</td>\n",
       "      <td>1Row-Xf-Xd-Xd-Xf</td>\n",
       "      <td>1Row-Hc-Rd-Xf-Ah</td>\n",
       "      <td>250</td>\n",
       "      <td>Z</td>\n",
       "      <td>Z</td>\n",
       "    </tr>\n",
       "    <tr>\n",
       "      <th>7</th>\n",
       "      <td>8</td>\n",
       "      <td>1Row-Xf-Xd-Xd-Xf</td>\n",
       "      <td>1Row-Ae-Xd-Rx-Hf</td>\n",
       "      <td>250</td>\n",
       "      <td>Z</td>\n",
       "      <td>Z</td>\n",
       "    </tr>\n",
       "    <tr>\n",
       "      <th>8</th>\n",
       "      <td>9</td>\n",
       "      <td>1Row-Xf-Xd-Xd-Xf</td>\n",
       "      <td>1Row-Gh-Bg-Eh-Hd</td>\n",
       "      <td>250</td>\n",
       "      <td>Z</td>\n",
       "      <td>Z</td>\n",
       "    </tr>\n",
       "    <tr>\n",
       "      <th>9</th>\n",
       "      <td>10</td>\n",
       "      <td>1Row-Xf-Xd-Xd-Xf</td>\n",
       "      <td>1Row-Hc-Bh-Xf-Ah</td>\n",
       "      <td>250</td>\n",
       "      <td>Z</td>\n",
       "      <td>Z</td>\n",
       "    </tr>\n",
       "  </tbody>\n",
       "</table>\n",
       "</div>"
      ],
      "text/plain": [
       "  TrialId                S1                S2  ISI ChangeType Correct\n",
       "0       1  1Row-Xf-Xd-Xd-Xf  1Row-Xf-Xd-Xd-Xf  250          N       N\n",
       "1       2  1Row-Xf-Xd-Xd-Xf  1Row-Xd-Xg-Xd-Xg  250          Z       Z\n",
       "2       3  1Row-Xf-Xd-Xd-Xf  1Row-Xd-Xf-Xa-Xg  250          Z       Z\n",
       "3       4  1Row-Xf-Xd-Xd-Xf  1Row-Dx-Bg-Ef-Hd  250          Z       Z\n",
       "4       5  1Row-Xf-Xd-Xd-Xf  1Row-Gl-Bg-Ah-Hd  250          Z       Z\n",
       "5       6  1Row-Xf-Xd-Xd-Xf  1Row-Xf-Xg-Xd-Xg  250          Z       Z\n",
       "6       7  1Row-Xf-Xd-Xd-Xf  1Row-Hc-Rd-Xf-Ah  250          Z       Z\n",
       "7       8  1Row-Xf-Xd-Xd-Xf  1Row-Ae-Xd-Rx-Hf  250          Z       Z\n",
       "8       9  1Row-Xf-Xd-Xd-Xf  1Row-Gh-Bg-Eh-Hd  250          Z       Z\n",
       "9      10  1Row-Xf-Xd-Xd-Xf  1Row-Hc-Bh-Xf-Ah  250          Z       Z"
      ]
     },
     "execution_count": 137,
     "metadata": {},
     "output_type": "execute_result"
    }
   ],
   "source": [
    "# Trials Dataframe samlple: \n",
    "trials_df.head(10)"
   ]
  },
  {
   "cell_type": "code",
   "execution_count": 138,
   "metadata": {
    "collapsed": false
   },
   "outputs": [
    {
     "name": "stdout",
     "output_type": "stream",
     "text": [
      "59 trials with no change:\n"
     ]
    },
    {
     "data": {
      "text/html": [
       "<div>\n",
       "<table border=\"1\" class=\"dataframe\">\n",
       "  <thead>\n",
       "    <tr style=\"text-align: right;\">\n",
       "      <th></th>\n",
       "      <th>TrialId</th>\n",
       "      <th>S1</th>\n",
       "      <th>S2</th>\n",
       "      <th>ISI</th>\n",
       "      <th>ChangeType</th>\n",
       "      <th>Correct</th>\n",
       "    </tr>\n",
       "  </thead>\n",
       "  <tbody>\n",
       "    <tr>\n",
       "      <th>0</th>\n",
       "      <td>1</td>\n",
       "      <td>1Row-Xf-Xd-Xd-Xf</td>\n",
       "      <td>1Row-Xf-Xd-Xd-Xf</td>\n",
       "      <td>250</td>\n",
       "      <td>N</td>\n",
       "      <td>N</td>\n",
       "    </tr>\n",
       "    <tr>\n",
       "      <th>60</th>\n",
       "      <td>61</td>\n",
       "      <td>1Row-Xd-Xg-Xd-Xg</td>\n",
       "      <td>1Row-Xd-Xg-Xd-Xg</td>\n",
       "      <td>250</td>\n",
       "      <td>N</td>\n",
       "      <td>N</td>\n",
       "    </tr>\n",
       "    <tr>\n",
       "      <th>120</th>\n",
       "      <td>121</td>\n",
       "      <td>1Row-Xd-Xf-Xa-Xg</td>\n",
       "      <td>1Row-Xd-Xf-Xa-Xg</td>\n",
       "      <td>250</td>\n",
       "      <td>N</td>\n",
       "      <td>N</td>\n",
       "    </tr>\n",
       "    <tr>\n",
       "      <th>180</th>\n",
       "      <td>181</td>\n",
       "      <td>1Row-Dx-Bg-Ef-Hd</td>\n",
       "      <td>1Row-Dx-Bg-Ef-Hd</td>\n",
       "      <td>250</td>\n",
       "      <td>N</td>\n",
       "      <td>N</td>\n",
       "    </tr>\n",
       "    <tr>\n",
       "      <th>240</th>\n",
       "      <td>241</td>\n",
       "      <td>1Row-Gl-Bg-Ah-Hd</td>\n",
       "      <td>1Row-Gl-Bg-Ah-Hd</td>\n",
       "      <td>250</td>\n",
       "      <td>N</td>\n",
       "      <td>N</td>\n",
       "    </tr>\n",
       "  </tbody>\n",
       "</table>\n",
       "</div>"
      ],
      "text/plain": [
       "    TrialId                S1                S2  ISI ChangeType Correct\n",
       "0         1  1Row-Xf-Xd-Xd-Xf  1Row-Xf-Xd-Xd-Xf  250          N       N\n",
       "60       61  1Row-Xd-Xg-Xd-Xg  1Row-Xd-Xg-Xd-Xg  250          N       N\n",
       "120     121  1Row-Xd-Xf-Xa-Xg  1Row-Xd-Xf-Xa-Xg  250          N       N\n",
       "180     181  1Row-Dx-Bg-Ef-Hd  1Row-Dx-Bg-Ef-Hd  250          N       N\n",
       "240     241  1Row-Gl-Bg-Ah-Hd  1Row-Gl-Bg-Ah-Hd  250          N       N"
      ]
     },
     "execution_count": 138,
     "metadata": {},
     "output_type": "execute_result"
    }
   ],
   "source": [
    "# Trials with no change from S1 to S2\n",
    "N_trials = trials_df[trials_df['ChangeType'] == 'N']\n",
    "print(str(len(N_trials)) + ' trials with no change:')\n",
    "N_trials.head()"
   ]
  },
  {
   "cell_type": "code",
   "execution_count": 139,
   "metadata": {
    "collapsed": false
   },
   "outputs": [
    {
     "name": "stdout",
     "output_type": "stream",
     "text": [
      "124 trials with one local change (L):\n"
     ]
    },
    {
     "data": {
      "text/html": [
       "<div>\n",
       "<table border=\"1\" class=\"dataframe\">\n",
       "  <thead>\n",
       "    <tr style=\"text-align: right;\">\n",
       "      <th></th>\n",
       "      <th>TrialId</th>\n",
       "      <th>S1</th>\n",
       "      <th>S2</th>\n",
       "      <th>ISI</th>\n",
       "      <th>ChangeType</th>\n",
       "      <th>Correct</th>\n",
       "    </tr>\n",
       "  </thead>\n",
       "  <tbody>\n",
       "    <tr>\n",
       "      <th>20</th>\n",
       "      <td>21</td>\n",
       "      <td>1Row-Xf-Xd-Xd-Xf</td>\n",
       "      <td>1Row-Xf-Xd-Xd-Xg</td>\n",
       "      <td>250</td>\n",
       "      <td>L</td>\n",
       "      <td>L</td>\n",
       "    </tr>\n",
       "    <tr>\n",
       "      <th>64</th>\n",
       "      <td>65</td>\n",
       "      <td>1Row-Xd-Xg-Xd-Xg</td>\n",
       "      <td>1Row-Xf-Xg-Xd-Xg</td>\n",
       "      <td>250</td>\n",
       "      <td>L</td>\n",
       "      <td>L</td>\n",
       "    </tr>\n",
       "    <tr>\n",
       "      <th>69</th>\n",
       "      <td>70</td>\n",
       "      <td>1Row-Xd-Xg-Xd-Xg</td>\n",
       "      <td>1Row-Xd-Xg-Xg-Xg</td>\n",
       "      <td>250</td>\n",
       "      <td>L</td>\n",
       "      <td>L</td>\n",
       "    </tr>\n",
       "    <tr>\n",
       "      <th>85</th>\n",
       "      <td>86</td>\n",
       "      <td>1Row-Xd-Xg-Xd-Xg</td>\n",
       "      <td>1Row-Xd-Xf-Xd-Xg</td>\n",
       "      <td>250</td>\n",
       "      <td>L</td>\n",
       "      <td>L</td>\n",
       "    </tr>\n",
       "    <tr>\n",
       "      <th>113</th>\n",
       "      <td>114</td>\n",
       "      <td>1Row-Xd-Xg-Xd-Xg</td>\n",
       "      <td>1Row-Xd-Xd-Xd-Xg</td>\n",
       "      <td>250</td>\n",
       "      <td>L</td>\n",
       "      <td>L</td>\n",
       "    </tr>\n",
       "  </tbody>\n",
       "</table>\n",
       "</div>"
      ],
      "text/plain": [
       "    TrialId                S1                S2  ISI ChangeType Correct\n",
       "20       21  1Row-Xf-Xd-Xd-Xf  1Row-Xf-Xd-Xd-Xg  250          L       L\n",
       "64       65  1Row-Xd-Xg-Xd-Xg  1Row-Xf-Xg-Xd-Xg  250          L       L\n",
       "69       70  1Row-Xd-Xg-Xd-Xg  1Row-Xd-Xg-Xg-Xg  250          L       L\n",
       "85       86  1Row-Xd-Xg-Xd-Xg  1Row-Xd-Xf-Xd-Xg  250          L       L\n",
       "113     114  1Row-Xd-Xg-Xd-Xg  1Row-Xd-Xd-Xd-Xg  250          L       L"
      ]
     },
     "execution_count": 139,
     "metadata": {},
     "output_type": "execute_result"
    }
   ],
   "source": [
    "# Trials with one local change from S1 to S2\n",
    "L_trials = trials_df[trials_df['ChangeType'] == 'L']\n",
    "print(str(len(L_trials)) + ' trials with one local change (L):')\n",
    "L_trials.head()"
   ]
  },
  {
   "cell_type": "code",
   "execution_count": 141,
   "metadata": {
    "collapsed": false
   },
   "outputs": [
    {
     "name": "stdout",
     "output_type": "stream",
     "text": [
      "8 trials with one global change (G):\n"
     ]
    },
    {
     "data": {
      "text/html": [
       "<div>\n",
       "<table border=\"1\" class=\"dataframe\">\n",
       "  <thead>\n",
       "    <tr style=\"text-align: right;\">\n",
       "      <th></th>\n",
       "      <th>TrialId</th>\n",
       "      <th>S1</th>\n",
       "      <th>S2</th>\n",
       "      <th>ISI</th>\n",
       "      <th>ChangeType</th>\n",
       "      <th>Correct</th>\n",
       "    </tr>\n",
       "  </thead>\n",
       "  <tbody>\n",
       "    <tr>\n",
       "      <th>286</th>\n",
       "      <td>287</td>\n",
       "      <td>1Row-Gl-Bg-Ah-Hd</td>\n",
       "      <td>1Row-Al-Bg-Ah-Hd</td>\n",
       "      <td>250</td>\n",
       "      <td>G</td>\n",
       "      <td>G</td>\n",
       "    </tr>\n",
       "    <tr>\n",
       "      <th>483</th>\n",
       "      <td>484</td>\n",
       "      <td>1Row-Gh-Bg-Eh-Hd</td>\n",
       "      <td>1Row-Gh-Bg-Ah-Hd</td>\n",
       "      <td>250</td>\n",
       "      <td>G</td>\n",
       "      <td>G</td>\n",
       "    </tr>\n",
       "    <tr>\n",
       "      <th>657</th>\n",
       "      <td>658</td>\n",
       "      <td>1Row-Gh-Bg-Ah-Hd</td>\n",
       "      <td>1Row-Gh-Bg-Eh-Hd</td>\n",
       "      <td>250</td>\n",
       "      <td>G</td>\n",
       "      <td>G</td>\n",
       "    </tr>\n",
       "    <tr>\n",
       "      <th>990</th>\n",
       "      <td>991</td>\n",
       "      <td>1Row-Xg-Bh-Xg-Bf</td>\n",
       "      <td>1Row-Rg-Bh-Xg-Bf</td>\n",
       "      <td>250</td>\n",
       "      <td>G</td>\n",
       "      <td>G</td>\n",
       "    </tr>\n",
       "    <tr>\n",
       "      <th>1093</th>\n",
       "      <td>1094</td>\n",
       "      <td>1Row-Gh-Bg-Ef-Hd</td>\n",
       "      <td>1Row-Dh-Bg-Ef-Hd</td>\n",
       "      <td>250</td>\n",
       "      <td>G</td>\n",
       "      <td>G</td>\n",
       "    </tr>\n",
       "  </tbody>\n",
       "</table>\n",
       "</div>"
      ],
      "text/plain": [
       "     TrialId                S1                S2  ISI ChangeType Correct\n",
       "286      287  1Row-Gl-Bg-Ah-Hd  1Row-Al-Bg-Ah-Hd  250          G       G\n",
       "483      484  1Row-Gh-Bg-Eh-Hd  1Row-Gh-Bg-Ah-Hd  250          G       G\n",
       "657      658  1Row-Gh-Bg-Ah-Hd  1Row-Gh-Bg-Eh-Hd  250          G       G\n",
       "990      991  1Row-Xg-Bh-Xg-Bf  1Row-Rg-Bh-Xg-Bf  250          G       G\n",
       "1093    1094  1Row-Gh-Bg-Ef-Hd  1Row-Dh-Bg-Ef-Hd  250          G       G"
      ]
     },
     "execution_count": 141,
     "metadata": {},
     "output_type": "execute_result"
    }
   ],
   "source": [
    "# Trials with one global change from S1 to S2\n",
    "G_trials = trials_df[trials_df['ChangeType'] == 'G']\n",
    "print(str(len(G_trials)) + ' trials with one global change (G):')\n",
    "G_trials.head()"
   ]
  },
  {
   "cell_type": "code",
   "execution_count": 142,
   "metadata": {
    "collapsed": false
   },
   "outputs": [
    {
     "name": "stdout",
     "output_type": "stream",
     "text": [
      "46 trials with one global and local change (M):\n"
     ]
    },
    {
     "data": {
      "text/html": [
       "<div>\n",
       "<table border=\"1\" class=\"dataframe\">\n",
       "  <thead>\n",
       "    <tr style=\"text-align: right;\">\n",
       "      <th></th>\n",
       "      <th>TrialId</th>\n",
       "      <th>S1</th>\n",
       "      <th>S2</th>\n",
       "      <th>ISI</th>\n",
       "      <th>ChangeType</th>\n",
       "      <th>Correct</th>\n",
       "    </tr>\n",
       "  </thead>\n",
       "  <tbody>\n",
       "    <tr>\n",
       "      <th>195</th>\n",
       "      <td>196</td>\n",
       "      <td>1Row-Dx-Bg-Ef-Hd</td>\n",
       "      <td>1Row-Gh-Bg-Ef-Hd</td>\n",
       "      <td>250</td>\n",
       "      <td>M</td>\n",
       "      <td>M</td>\n",
       "    </tr>\n",
       "    <tr>\n",
       "      <th>232</th>\n",
       "      <td>233</td>\n",
       "      <td>1Row-Dx-Bg-Ef-Hd</td>\n",
       "      <td>1Row-Ef-Bg-Ef-Hd</td>\n",
       "      <td>250</td>\n",
       "      <td>M</td>\n",
       "      <td>M</td>\n",
       "    </tr>\n",
       "    <tr>\n",
       "      <th>283</th>\n",
       "      <td>284</td>\n",
       "      <td>1Row-Gl-Bg-Ah-Hd</td>\n",
       "      <td>1Row-Ae-Bg-Ah-Hd</td>\n",
       "      <td>250</td>\n",
       "      <td>M</td>\n",
       "      <td>M</td>\n",
       "    </tr>\n",
       "    <tr>\n",
       "      <th>363</th>\n",
       "      <td>364</td>\n",
       "      <td>1Row-Hc-Rd-Xf-Ah</td>\n",
       "      <td>1Row-Hc-Bh-Xf-Ah</td>\n",
       "      <td>250</td>\n",
       "      <td>M</td>\n",
       "      <td>M</td>\n",
       "    </tr>\n",
       "    <tr>\n",
       "      <th>537</th>\n",
       "      <td>538</td>\n",
       "      <td>1Row-Hc-Bh-Xf-Ah</td>\n",
       "      <td>1Row-Hc-Rd-Xf-Ah</td>\n",
       "      <td>250</td>\n",
       "      <td>M</td>\n",
       "      <td>M</td>\n",
       "    </tr>\n",
       "  </tbody>\n",
       "</table>\n",
       "</div>"
      ],
      "text/plain": [
       "    TrialId                S1                S2  ISI ChangeType Correct\n",
       "195     196  1Row-Dx-Bg-Ef-Hd  1Row-Gh-Bg-Ef-Hd  250          M       M\n",
       "232     233  1Row-Dx-Bg-Ef-Hd  1Row-Ef-Bg-Ef-Hd  250          M       M\n",
       "283     284  1Row-Gl-Bg-Ah-Hd  1Row-Ae-Bg-Ah-Hd  250          M       M\n",
       "363     364  1Row-Hc-Rd-Xf-Ah  1Row-Hc-Bh-Xf-Ah  250          M       M\n",
       "537     538  1Row-Hc-Bh-Xf-Ah  1Row-Hc-Rd-Xf-Ah  250          M       M"
      ]
     },
     "execution_count": 142,
     "metadata": {},
     "output_type": "execute_result"
    }
   ],
   "source": [
    "# Trials with one global and one local change from S1 to S2\n",
    "M_trials = trials_df[trials_df['ChangeType'] == 'M']\n",
    "print(str(len(M_trials)) + ' trials with one global and local change (M):')\n",
    "M_trials.head()"
   ]
  },
  {
   "cell_type": "code",
   "execution_count": 143,
   "metadata": {
    "collapsed": true
   },
   "outputs": [],
   "source": [
    "# Export trials dataframe to a CSV file:\n",
    "trials_df.to_csv('AllTrials.csv', sep =';', index_label='Id')"
   ]
  },
  {
   "cell_type": "code",
   "execution_count": null,
   "metadata": {
    "collapsed": true
   },
   "outputs": [],
   "source": []
  }
 ],
 "metadata": {
  "kernelspec": {
   "display_name": "Python 3",
   "language": "python",
   "name": "python3"
  },
  "language_info": {
   "codemirror_mode": {
    "name": "ipython",
    "version": 3
   },
   "file_extension": ".py",
   "mimetype": "text/x-python",
   "name": "python",
   "nbconvert_exporter": "python",
   "pygments_lexer": "ipython3",
   "version": "3.6.0"
  }
 },
 "nbformat": 4,
 "nbformat_minor": 2
}
